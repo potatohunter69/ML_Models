{
 "cells": [
  {
   "cell_type": "code",
   "execution_count": 10,
   "metadata": {},
   "outputs": [],
   "source": [
    "import tkinter as tk\n",
    "\n",
    "def show_instructions():\n",
    "    # Create a new window\n",
    "    window = tk.Tk()\n",
    "    window.title(\"Trading Earnings Instructions\")\n",
    "    window.configure(bg=\"#333333\")  # Set background color\n",
    "\n",
    "    # Set the window size and position\n",
    "    window_width = 800\n",
    "    window_height = 600\n",
    "    screen_width = window.winfo_screenwidth()\n",
    "    screen_height = window.winfo_screenheight()\n",
    "    x = int((screen_width / 2) - (window_width / 2))\n",
    "    y = int((screen_height / 2) - (window_height / 2))\n",
    "    window.geometry(f\"{window_width}x{window_height}+{x}+{y}\")\n",
    "\n",
    "    # Create and format labels\n",
    "    label_1 = tk.Label(window, text=\"1. List of companies with high potential return and low risk\", font=(\"Arial\", 18, \"bold\"), fg=\"#FFFFFF\", bg=\"#333333\", justify=\"left\")\n",
    "    label_1.pack(pady=20)\n",
    "\n",
    "    label_2 = tk.Label(window, text=\"2. Choose a side with the highest probability of success\", font=(\"Arial\", 18, \"bold\"), fg=\"#FFFFFF\", bg=\"#333333\", justify=\"left\")\n",
    "    label_2.pack(pady=20)\n",
    "\n",
    "    label_3 = tk.Label(window, text=\"3. Bet about $2000 sek\", font=(\"Arial\", 18, \"bold\"), fg=\"#FFFFFF\", bg=\"#333333\", justify=\"left\")\n",
    "    label_3.pack(pady=20)\n",
    "\n",
    "    label_4 = tk.Label(window, text=\"4. If you win, take the profit and bet again with the same amount\", font=(\"Arial\", 18, \"bold\"), fg=\"#FFFFFF\", bg=\"#333333\", justify=\"left\")\n",
    "    label_4.pack(pady=20)\n",
    "\n",
    "    label_5 = tk.Label(window, text=\"5. If you lose, bet again but double the amount\", font=(\"Arial\", 18, \"bold\"), fg=\"#FFFFFF\", bg=\"#333333\", justify=\"left\")\n",
    "    label_5.pack(pady=20)\n",
    "\n",
    "    label_6 = tk.Label(window, text=\"6. Every time you lose, double the amount\", font=(\"Arial\", 18, \"bold\"), fg=\"#FFFFFF\", bg=\"#333333\", justify=\"left\")\n",
    "    label_6.pack(pady=20)\n",
    "\n",
    "    label_7 = tk.Label(window, text=\"7. If you win, go back to the original amount\", font=(\"Arial\", 18, \"bold\"), fg=\"#FFFFFF\", bg=\"#333333\", justify=\"left\")\n",
    "    label_7.pack(pady=20)\n",
    "\n",
    "    # Run the window's main loop\n",
    "    window.mainloop()\n",
    "\n",
    "# Call the function to display the instructions\n",
    "show_instructions()\n"
   ]
  },
  {
   "cell_type": "code",
   "execution_count": null,
   "metadata": {},
   "outputs": [],
   "source": []
  }
 ],
 "metadata": {
  "kernelspec": {
   "display_name": "tf",
   "language": "python",
   "name": "python3"
  },
  "language_info": {
   "codemirror_mode": {
    "name": "ipython",
    "version": 3
   },
   "file_extension": ".py",
   "mimetype": "text/x-python",
   "name": "python",
   "nbconvert_exporter": "python",
   "pygments_lexer": "ipython3",
   "version": "3.10.11"
  },
  "orig_nbformat": 4
 },
 "nbformat": 4,
 "nbformat_minor": 2
}
